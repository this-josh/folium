{
 "cells": [
  {
   "cell_type": "code",
   "execution_count": 1,
   "id": "d1540974",
   "metadata": {
    "execution": {
     "iopub.execute_input": "2024-02-28T15:26:51.460071Z",
     "iopub.status.busy": "2024-02-28T15:26:51.459910Z",
     "iopub.status.idle": "2024-02-28T15:26:51.850568Z",
     "shell.execute_reply": "2024-02-28T15:26:51.850055Z"
    },
    "nbsphinx": "hidden"
   },
   "outputs": [],
   "source": [
    "import folium"
   ]
  },
  {
   "cell_type": "markdown",
   "id": "3c1d83a7",
   "metadata": {},
   "source": [
    "## FitOverlays\n",
    "\n",
    "When you add this class to your map, the map will pan and zoom to fit the enabled overlays.\n",
    "\n",
    "By default, the map won't necessarily show all elements that were added. You may have to pan or zoom out to find them.\n",
    "\n",
    "If we add the `FitOverlays` class, it will automatically pan and zoom to show the enabled overlays.\n",
    "In this example we show only the first marker by default. If you enable the second marker, the view changes to include it."
   ]
  },
  {
   "cell_type": "code",
   "execution_count": 2,
   "id": "400f7a6d",
   "metadata": {
    "execution": {
     "iopub.execute_input": "2024-02-28T15:26:51.852877Z",
     "iopub.status.busy": "2024-02-28T15:26:51.852659Z",
     "iopub.status.idle": "2024-02-28T15:26:51.865472Z",
     "shell.execute_reply": "2024-02-28T15:26:51.865078Z"
    }
   },
   "outputs": [
    {
     "data": {
      "text/html": [
       "<div style=\"width:100%;\"><div style=\"position:relative;width:100%;height:0;padding-bottom:60%;\"><span style=\"color:#565656\">Make this Notebook Trusted to load map: File -> Trust Notebook</span><iframe srcdoc=\"&lt;!DOCTYPE html&gt;\n",
       "&lt;html&gt;\n",
       "&lt;head&gt;\n",
       "    \n",
       "    &lt;meta http-equiv=&quot;content-type&quot; content=&quot;text/html; charset=UTF-8&quot; /&gt;\n",
       "    \n",
       "        &lt;script&gt;\n",
       "            L_NO_TOUCH = false;\n",
       "            L_DISABLE_3D = false;\n",
       "        &lt;/script&gt;\n",
       "    \n",
       "    &lt;style&gt;html, body {width: 100%;height: 100%;margin: 0;padding: 0;}&lt;/style&gt;\n",
       "    &lt;style&gt;#map {position:absolute;top:0;bottom:0;right:0;left:0;}&lt;/style&gt;\n",
       "    &lt;script src=&quot;https://cdn.jsdelivr.net/npm/leaflet@1.9.3/dist/leaflet.js&quot;&gt;&lt;/script&gt;\n",
       "    &lt;script src=&quot;https://code.jquery.com/jquery-3.7.1.min.js&quot;&gt;&lt;/script&gt;\n",
       "    &lt;script src=&quot;https://cdn.jsdelivr.net/npm/bootstrap@5.2.2/dist/js/bootstrap.bundle.min.js&quot;&gt;&lt;/script&gt;\n",
       "    &lt;script src=&quot;https://cdnjs.cloudflare.com/ajax/libs/Leaflet.awesome-markers/2.0.2/leaflet.awesome-markers.js&quot;&gt;&lt;/script&gt;\n",
       "    &lt;link rel=&quot;stylesheet&quot; href=&quot;https://cdn.jsdelivr.net/npm/leaflet@1.9.3/dist/leaflet.css&quot;/&gt;\n",
       "    &lt;link rel=&quot;stylesheet&quot; href=&quot;https://cdn.jsdelivr.net/npm/bootstrap@5.2.2/dist/css/bootstrap.min.css&quot;/&gt;\n",
       "    &lt;link rel=&quot;stylesheet&quot; href=&quot;https://netdna.bootstrapcdn.com/bootstrap/3.0.0/css/bootstrap.min.css&quot;/&gt;\n",
       "    &lt;link rel=&quot;stylesheet&quot; href=&quot;https://cdn.jsdelivr.net/npm/@fortawesome/fontawesome-free@6.2.0/css/all.min.css&quot;/&gt;\n",
       "    &lt;link rel=&quot;stylesheet&quot; href=&quot;https://cdnjs.cloudflare.com/ajax/libs/Leaflet.awesome-markers/2.0.2/leaflet.awesome-markers.css&quot;/&gt;\n",
       "    &lt;link rel=&quot;stylesheet&quot; href=&quot;https://cdn.jsdelivr.net/gh/python-visualization/folium/folium/templates/leaflet.awesome.rotate.min.css&quot;/&gt;\n",
       "    \n",
       "            &lt;meta name=&quot;viewport&quot; content=&quot;width=device-width,\n",
       "                initial-scale=1.0, maximum-scale=1.0, user-scalable=no&quot; /&gt;\n",
       "            &lt;style&gt;\n",
       "                #map_4343273a5d6fee1dedb084e758b7871e {\n",
       "                    position: relative;\n",
       "                    width: 100.0%;\n",
       "                    height: 100.0%;\n",
       "                    left: 0.0%;\n",
       "                    top: 0.0%;\n",
       "                }\n",
       "                .leaflet-container { font-size: 1rem; }\n",
       "            &lt;/style&gt;\n",
       "        \n",
       "&lt;/head&gt;\n",
       "&lt;body&gt;\n",
       "    \n",
       "    \n",
       "            &lt;div class=&quot;folium-map&quot; id=&quot;map_4343273a5d6fee1dedb084e758b7871e&quot; &gt;&lt;/div&gt;\n",
       "        \n",
       "&lt;/body&gt;\n",
       "&lt;script&gt;\n",
       "    \n",
       "    \n",
       "            var map_4343273a5d6fee1dedb084e758b7871e = L.map(\n",
       "                &quot;map_4343273a5d6fee1dedb084e758b7871e&quot;,\n",
       "                {\n",
       "                    center: [52.0, 0.0],\n",
       "                    crs: L.CRS.EPSG3857,\n",
       "                    zoom: 8,\n",
       "                    zoomControl: true,\n",
       "                    preferCanvas: false,\n",
       "                }\n",
       "            );\n",
       "\n",
       "            \n",
       "\n",
       "        \n",
       "    \n",
       "            var tile_layer_6f6c04bc818a3d1193dfe9673d902de2 = L.tileLayer(\n",
       "                &quot;https://{s}.basemaps.cartocdn.com/light_all/{z}/{x}/{y}{r}.png&quot;,\n",
       "                {&quot;attribution&quot;: &quot;\\u0026copy; \\u003ca href=\\&quot;https://www.openstreetmap.org/copyright\\&quot;\\u003eOpenStreetMap\\u003c/a\\u003e contributors \\u0026copy; \\u003ca href=\\&quot;https://carto.com/attributions\\&quot;\\u003eCARTO\\u003c/a\\u003e&quot;, &quot;detectRetina&quot;: false, &quot;maxNativeZoom&quot;: 20, &quot;maxZoom&quot;: 20, &quot;minZoom&quot;: 0, &quot;noWrap&quot;: false, &quot;opacity&quot;: 1, &quot;subdomains&quot;: &quot;abcd&quot;, &quot;tms&quot;: false}\n",
       "            );\n",
       "        \n",
       "    \n",
       "            tile_layer_6f6c04bc818a3d1193dfe9673d902de2.addTo(map_4343273a5d6fee1dedb084e758b7871e);\n",
       "        \n",
       "    \n",
       "            var feature_group_0c3b9712246cd50b50a1487bc926a9bb = L.featureGroup(\n",
       "                {}\n",
       "            );\n",
       "        \n",
       "    \n",
       "            var marker_912cf2b1f444c5eeb66d7efd7da69506 = L.marker(\n",
       "                [52.0, 5.0],\n",
       "                {}\n",
       "            ).addTo(feature_group_0c3b9712246cd50b50a1487bc926a9bb);\n",
       "        \n",
       "    \n",
       "            feature_group_0c3b9712246cd50b50a1487bc926a9bb.addTo(map_4343273a5d6fee1dedb084e758b7871e);\n",
       "        \n",
       "    \n",
       "            var feature_group_87b9264ad73b3b0a320eb35267ef822c = L.featureGroup(\n",
       "                {}\n",
       "            );\n",
       "        \n",
       "    \n",
       "            var marker_c8f7607f2f0d2ba2170a3949fd482e15 = L.marker(\n",
       "                [52.0, 5.1],\n",
       "                {}\n",
       "            ).addTo(feature_group_87b9264ad73b3b0a320eb35267ef822c);\n",
       "        \n",
       "    \n",
       "        function customFlyToBounds() {\n",
       "            let bounds = L.latLngBounds([]);\n",
       "            map_4343273a5d6fee1dedb084e758b7871e.eachLayer(function(layer) {\n",
       "                if (typeof layer.getBounds === &#x27;function&#x27;) {\n",
       "                    bounds.extend(layer.getBounds());\n",
       "                }\n",
       "            });\n",
       "            if (bounds.isValid()) {\n",
       "                map_4343273a5d6fee1dedb084e758b7871e.fitBounds(bounds, {&quot;padding&quot;: [0, 0]});\n",
       "            }\n",
       "        }\n",
       "        map_4343273a5d6fee1dedb084e758b7871e.on(&#x27;overlayadd&#x27;, customFlyToBounds);\n",
       "        customFlyToBounds();\n",
       "        \n",
       "    \n",
       "            var layer_control_a607b8d2cc5e126bef7e58e195eef877_layers = {\n",
       "                base_layers : {\n",
       "                    &quot;cartodbpositron&quot; : tile_layer_6f6c04bc818a3d1193dfe9673d902de2,\n",
       "                },\n",
       "                overlays :  {\n",
       "                    &quot;macro_element_0c3b9712246cd50b50a1487bc926a9bb&quot; : feature_group_0c3b9712246cd50b50a1487bc926a9bb,\n",
       "                    &quot;macro_element_87b9264ad73b3b0a320eb35267ef822c&quot; : feature_group_87b9264ad73b3b0a320eb35267ef822c,\n",
       "                },\n",
       "            };\n",
       "            let layer_control_a607b8d2cc5e126bef7e58e195eef877 = L.control.layers(\n",
       "                layer_control_a607b8d2cc5e126bef7e58e195eef877_layers.base_layers,\n",
       "                layer_control_a607b8d2cc5e126bef7e58e195eef877_layers.overlays,\n",
       "                {&quot;autoZIndex&quot;: true, &quot;collapsed&quot;: true, &quot;position&quot;: &quot;topright&quot;}\n",
       "            ).addTo(map_4343273a5d6fee1dedb084e758b7871e);\n",
       "\n",
       "        \n",
       "&lt;/script&gt;\n",
       "&lt;/html&gt;\" style=\"position:absolute;width:100%;height:100%;left:0;top:0;border:none !important;\" allowfullscreen webkitallowfullscreen mozallowfullscreen></iframe></div></div>"
      ],
      "text/plain": [
       "<folium.folium.Map at 0x7f46149326f0>"
      ]
     },
     "execution_count": 2,
     "metadata": {},
     "output_type": "execute_result"
    }
   ],
   "source": [
    "m = folium.Map((52, 0), tiles='cartodbpositron', zoom_start=8)\n",
    "\n",
    "fg1 = folium.FeatureGroup().add_to(m)\n",
    "folium.Marker((52, 5)).add_to(fg1)\n",
    "\n",
    "fg2 = folium.FeatureGroup(show=False).add_to(m)\n",
    "folium.Marker((52, 5.1)).add_to(fg2)\n",
    "\n",
    "folium.FitOverlays().add_to(m)\n",
    "\n",
    "folium.LayerControl().add_to(m)\n",
    "\n",
    "m"
   ]
  },
  {
   "cell_type": "markdown",
   "id": "f2947102",
   "metadata": {},
   "source": [
    "`FitOverlays` has a couple options:\n",
    "\n",
    "- `padding` adds pixels around the bounds.\n",
    "- `max_zoom` can be used to prevent zooming in too far.\n",
    "- `fly` enables a smoother, longer animation, so you can see how the view changes.\n",
    "- `fit_on_map_load` can be used to disable the fitting that happens when the map loads.\n",
    "\n",
    "Note that `padding` and `max_zoom` can achieve the same effect."
   ]
  }
 ],
 "metadata": {
  "jupytext": {
   "text_representation": {
    "extension": ".mystnb",
    "format_name": "myst"
   }
  },
  "language_info": {
   "codemirror_mode": {
    "name": "ipython",
    "version": 3
   },
   "file_extension": ".py",
   "mimetype": "text/x-python",
   "name": "python",
   "nbconvert_exporter": "python",
   "pygments_lexer": "ipython3",
   "version": "3.12.2"
  }
 },
 "nbformat": 4,
 "nbformat_minor": 5
}
